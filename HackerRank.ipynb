{
 "cells": [
  {
   "cell_type": "code",
   "execution_count": 1,
   "metadata": {},
   "outputs": [
    {
     "name": "stdout",
     "output_type": "stream",
     "text": [
      "1 2 3\n",
      "6\n"
     ]
    }
   ],
   "source": [
    "from functools import reduce\n",
    "ar_count = int(input())\n",
    "result = reduce(lambda x,y:x+y,list(map(int, input().rstrip().split())))\n",
    "print(result)"
   ]
  },
  {
   "cell_type": "code",
   "execution_count": 7,
   "metadata": {},
   "outputs": [
    {
     "name": "stdout",
     "output_type": "stream",
     "text": [
      "191 2 4\n",
      "9 2 4\n",
      "0 0\n"
     ]
    }
   ],
   "source": [
    "a=list(map(int, input().rstrip().split()))\n",
    "b=list(map(int, input().rstrip().split()))\n",
    "c=0\n",
    "d=0\n",
    "for val in range(len(a)):\n",
    "    if a[val]>=1 and a[val]<=100 and b[val]>=1 and b[val]<=100:\n",
    "        if a[val]>b[val]:\n",
    "            c=c+1\n",
    "        elif a[val]<b[val]:\n",
    "            d=d+1\n",
    "print(c,d)"
   ]
  },
  {
   "cell_type": "code",
   "execution_count": 9,
   "metadata": {},
   "outputs": [
    {
     "name": "stdout",
     "output_type": "stream",
     "text": [
      "5\n",
      "10 20 30 10000000000002 100000004\n",
      "100000064\n"
     ]
    }
   ],
   "source": [
    "#\n",
    "import math\n",
    "ar_count = int(input())\n",
    "if ar_count>=1 and ar_count<=10:\n",
    "    result = reduce(lambda x,y:x+y,filter(lambda x:x<math.pow(10,10), list(map(int, input().rstrip().split()))))\n",
    "print(result)"
   ]
  },
  {
   "cell_type": "code",
   "execution_count": 8,
   "metadata": {
    "scrolled": true
   },
   "outputs": [
    {
     "name": "stdout",
     "output_type": "stream",
     "text": [
      "3\n",
      "-23 0 -24\n",
      "0 -54 -23\n",
      "-65 0 -65\n",
      "1\n"
     ]
    }
   ],
   "source": [
    "##Diagonal\n",
    "ar_count = int(input())\n",
    "a=[]\n",
    "suma=0\n",
    "sumb=0\n",
    "for i in range(ar_count):\n",
    "    a.insert(i,list(map(int, input().rstrip().split())))\n",
    "    if len(a[i])==ar_count and len(list(filter(lambda x:x>=-100 and x<=100,a[i])))==ar_count:\n",
    "        suma=suma+a[i][i]\n",
    "        sumb=sumb+a[i][len(a[i])-(i+1)]\n",
    "    else:\n",
    "        print(\"Enter values correctly\")\n",
    "        break\n",
    "print(abs(suma-sumb))"
   ]
  },
  {
   "cell_type": "code",
   "execution_count": 5,
   "metadata": {},
   "outputs": [
    {
     "name": "stdout",
     "output_type": "stream",
     "text": [
      "5\n",
      "1 1 0 -1 -1\n",
      "0.400000\n",
      "0.400000\n",
      "0.200000\n"
     ]
    }
   ],
   "source": [
    "#PlusMinus\n",
    "ar_count = int(input())\n",
    "sump,sumz,sumn=0,0,0\n",
    "if ar_count>0 and ar_count<=100:    \n",
    "    a=list(map(int, input().rstrip().split()))\n",
    "    if len(a)==ar_count and len(list(filter(lambda x:x>=-100 and x<=100,a)))==ar_count:\n",
    "        for i in a:\n",
    "            if i>0:\n",
    "                sump=sump+1\n",
    "            elif i==0:\n",
    "                sumz=sumz+1\n",
    "            else:\n",
    "                sumn=sumn+1\n",
    "        \n",
    "        print(str(round(sump/len(a),6)).ljust(8,'0'),str(round(sumn/len(a),6)).ljust(8,'0'),str(round(sumz/len(a),6)).ljust(8,'0'),sep=\"\\n\")\n",
    "    else:\n",
    "         print(\"Enter values correctly\")"
   ]
  },
  {
   "cell_type": "code",
   "execution_count": 16,
   "metadata": {},
   "outputs": [
    {
     "name": "stdout",
     "output_type": "stream",
     "text": [
      "6\n",
      "     #\n",
      "    ##\n",
      "   ###\n",
      "  ####\n",
      " #####\n",
      "######\n"
     ]
    }
   ],
   "source": [
    "#StairCase\n",
    "ar_count = int(input())\n",
    "for i in range(ar_count):\n",
    "    print(str(\"\").ljust(i+1,\"#\").rjust(ar_count,\" \"))"
   ]
  },
  {
   "cell_type": "code",
   "execution_count": 19,
   "metadata": {},
   "outputs": [
    {
     "name": "stdout",
     "output_type": "stream",
     "text": [
      "7 69 2 221 8974\n",
      "299 9271\n"
     ]
    }
   ],
   "source": [
    "from functools import reduce\n",
    "a=list(map(int, input().rstrip().split()))\n",
    "a.sort()\n",
    "if len(a)==len(list(filter(lambda x:x>=1 and x<=pow(10,9),a))):\n",
    "    print(reduce(lambda x,y:x+y,a)-a[len(a)-1],reduce(lambda x,y:x+y,a)-a[0])\n",
    "else:\n",
    "     print(\"Enter values correctly\")"
   ]
  },
  {
   "cell_type": "code",
   "execution_count": 35,
   "metadata": {},
   "outputs": [
    {
     "name": "stdout",
     "output_type": "stream",
     "text": [
      "4\n",
      "1 11 1 4\n",
      "1\n"
     ]
    }
   ],
   "source": [
    "#Birthday Cake\n",
    "ar_count = int(input())\n",
    "if ar_count>0 and ar_count<=pow(10,5):\n",
    "    a=list(map(int, input().rstrip().split()))\n",
    "    if len(a)==ar_count and len(list(filter(lambda x:x>=1 and x<=pow(10,7),a)))==ar_count:\n",
    "        print(a.count(max(a)))\n",
    "    else:\n",
    "        print(\"Enter values correctly\")\n",
    "else:\n",
    "     print(\"Enter values correctly\")"
   ]
  },
  {
   "cell_type": "code",
   "execution_count": 16,
   "metadata": {},
   "outputs": [
    {
     "name": "stdout",
     "output_type": "stream",
     "text": [
      "12:00:00AM\n",
      "time.struct_time(tm_year=1900, tm_mon=1, tm_mday=1, tm_hour=0, tm_min=0, tm_sec=0, tm_wday=0, tm_yday=1, tm_isdst=-1)\n"
     ]
    }
   ],
   "source": [
    "#TimeConversion12to24\n",
    "from time import strptime, strftime\n",
    "print (strftime(\"%H:%M:%S\", strptime(input(), \"%I:%M:%S%p\")))"
   ]
  },
  {
   "cell_type": "code",
   "execution_count": 7,
   "metadata": {},
   "outputs": [
    {
     "name": "stdout",
     "output_type": "stream",
     "text": [
      "4\n",
      "78\n",
      "67\n",
      "83\n",
      "33\n",
      "80\n",
      "67\n",
      "85\n",
      "33\n"
     ]
    }
   ],
   "source": [
    "#Mark\n",
    "ar_count = int(input())\n",
    "a=[]\n",
    "if ar_count>0 and ar_count<=60:\n",
    "    for i in range(ar_count):\n",
    "        a.insert(i,int(input().rstrip())) \n",
    "    if len(a)==ar_count and len(list(filter(lambda x:x>=0 and x<=100,a)))==ar_count:\n",
    "        for i in range(len(a)):\n",
    "            if a[i]>=38 and (a[i]%5)>=3 and (a[i]%5)!=0 :\n",
    "                a[i]= (int(a[i]/5)+1)*5\n",
    "            print(a[i])"
   ]
  },
  {
   "cell_type": "code",
   "execution_count": 24,
   "metadata": {},
   "outputs": [
    {
     "name": "stdout",
     "output_type": "stream",
     "text": [
      "7 11\n",
      "5 15\n",
      "3 2\n",
      "3 3 3\n",
      "-5 -6\n",
      "3\n",
      "2\n"
     ]
    }
   ],
   "source": [
    "st = input().split()\n",
    "s = int(st[0])\n",
    "t = int(st[1])\n",
    "ab = input().split()\n",
    "a = int(ab[0])\n",
    "b = int(ab[1])\n",
    "mn = input().split()\n",
    "m = int(mn[0])\n",
    "n = int(mn[1])\n",
    "apples = list(map(int, input().rstrip().split()))\n",
    "oranges = list(map(int, input().rstrip().split()))\n",
    "app,org=0,0\n",
    "if a<s and s<t and t<b and s>=1 and s<=pow(10,5) and t>=1 and t<=pow(10,5) and a>=1 and a<=pow(10,5) and b>=1 and b<=pow(10,5) and m>=1 and m<=pow(10,5) and n>=1 and n<=pow(10,5) and m==len(apples) and m==len(list(filter(lambda x:x>=pow(-10,5) and x<=pow(10,5),apples))) and n==len(oranges) and n==len(list(filter(lambda x:x>=pow(-10,5) and x<=pow(10,5),oranges))):\n",
    "    for i in apples:\n",
    "        if i+a>=s:\n",
    "            app=app+1\n",
    "    print(app)\n",
    "    for j in oranges:\n",
    "        if j+b<=t:\n",
    "            org=org+1\n",
    "    print(org)\n",
    "else:\n",
    "    print(\"no\")"
   ]
  },
  {
   "cell_type": "code",
   "execution_count": 6,
   "metadata": {},
   "outputs": [],
   "source": []
  },
  {
   "cell_type": "code",
   "execution_count": null,
   "metadata": {},
   "outputs": [],
   "source": []
  }
 ],
 "metadata": {
  "kernelspec": {
   "display_name": "Python 3",
   "language": "python",
   "name": "python3"
  },
  "language_info": {
   "codemirror_mode": {
    "name": "ipython",
    "version": 3
   },
   "file_extension": ".py",
   "mimetype": "text/x-python",
   "name": "python",
   "nbconvert_exporter": "python",
   "pygments_lexer": "ipython3",
   "version": "3.6.5"
  }
 },
 "nbformat": 4,
 "nbformat_minor": 2
}
