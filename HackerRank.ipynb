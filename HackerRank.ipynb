{
 "cells": [
  {
   "cell_type": "code",
   "execution_count": 1,
   "metadata": {},
   "outputs": [
    {
     "name": "stdout",
     "output_type": "stream",
     "text": [
      "1 2 3\n",
      "6\n"
     ]
    }
   ],
   "source": [
    "from functools import reduce\n",
    "ar_count = int(input())\n",
    "result = reduce(lambda x,y:x+y,list(map(int, input().rstrip().split())))\n",
    "print(result)"
   ]
  },
  {
   "cell_type": "code",
   "execution_count": 7,
   "metadata": {},
   "outputs": [
    {
     "name": "stdout",
     "output_type": "stream",
     "text": [
      "191 2 4\n",
      "9 2 4\n",
      "0 0\n"
     ]
    }
   ],
   "source": [
    "a=list(map(int, input().rstrip().split()))\n",
    "b=list(map(int, input().rstrip().split()))\n",
    "c=0\n",
    "d=0\n",
    "for val in range(len(a)):\n",
    "    if a[val]>=1 and a[val]<=100 and b[val]>=1 and b[val]<=100:\n",
    "        if a[val]>b[val]:\n",
    "            c=c+1\n",
    "        elif a[val]<b[val]:\n",
    "            d=d+1\n",
    "print(c,d)"
   ]
  },
  {
   "cell_type": "code",
   "execution_count": 9,
   "metadata": {},
   "outputs": [
    {
     "name": "stdout",
     "output_type": "stream",
     "text": [
      "5\n",
      "10 20 30 10000000000002 100000004\n",
      "100000064\n"
     ]
    }
   ],
   "source": [
    "#\n",
    "import math\n",
    "ar_count = int(input())\n",
    "if ar_count>=1 and ar_count<=10:\n",
    "    result = reduce(lambda x,y:x+y,filter(lambda x:x<math.pow(10,10), list(map(int, input().rstrip().split()))))\n",
    "print(result)"
   ]
  },
  {
   "cell_type": "code",
   "execution_count": 8,
   "metadata": {
    "scrolled": true
   },
   "outputs": [
    {
     "name": "stdout",
     "output_type": "stream",
     "text": [
      "3\n",
      "-23 0 -24\n",
      "0 -54 -23\n",
      "-65 0 -65\n",
      "1\n"
     ]
    }
   ],
   "source": [
    "##Diagonal\n",
    "ar_count = int(input())\n",
    "a=[]\n",
    "suma=0\n",
    "sumb=0\n",
    "for i in range(ar_count):\n",
    "    a.insert(i,list(map(int, input().rstrip().split())))\n",
    "    if len(a[i])==ar_count and len(list(filter(lambda x:x>=-100 and x<=100,a[i])))==ar_count:\n",
    "        suma=suma+a[i][i]\n",
    "        sumb=sumb+a[i][len(a[i])-(i+1)]\n",
    "    else:\n",
    "        print(\"Enter values correctly\")\n",
    "        break\n",
    "print(abs(suma-sumb))"
   ]
  },
  {
   "cell_type": "code",
   "execution_count": 5,
   "metadata": {},
   "outputs": [
    {
     "name": "stdout",
     "output_type": "stream",
     "text": [
      "5\n",
      "1 1 0 -1 -1\n",
      "0.400000\n",
      "0.400000\n",
      "0.200000\n"
     ]
    }
   ],
   "source": [
    "#PlusMinus\n",
    "ar_count = int(input())\n",
    "sump,sumz,sumn=0,0,0\n",
    "if ar_count>0 and ar_count<=100:    \n",
    "    a=list(map(int, input().rstrip().split()))\n",
    "    if len(a)==ar_count and len(list(filter(lambda x:x>=-100 and x<=100,a)))==ar_count:\n",
    "        for i in a:\n",
    "            if i>0:\n",
    "                sump=sump+1\n",
    "            elif i==0:\n",
    "                sumz=sumz+1\n",
    "            else:\n",
    "                sumn=sumn+1\n",
    "        \n",
    "        print(str(round(sump/len(a),6)).ljust(8,'0'),str(round(sumn/len(a),6)).ljust(8,'0'),str(round(sumz/len(a),6)).ljust(8,'0'),sep=\"\\n\")\n",
    "    else:\n",
    "         print(\"Enter values correctly\")"
   ]
  },
  {
   "cell_type": "code",
   "execution_count": null,
   "metadata": {},
   "outputs": [],
   "source": []
  },
  {
   "cell_type": "code",
   "execution_count": null,
   "metadata": {},
   "outputs": [],
   "source": []
  }
 ],
 "metadata": {
  "kernelspec": {
   "display_name": "Python 3",
   "language": "python",
   "name": "python3"
  },
  "language_info": {
   "codemirror_mode": {
    "name": "ipython",
    "version": 3
   },
   "file_extension": ".py",
   "mimetype": "text/x-python",
   "name": "python",
   "nbconvert_exporter": "python",
   "pygments_lexer": "ipython3",
   "version": "3.6.5"
  }
 },
 "nbformat": 4,
 "nbformat_minor": 2
}
