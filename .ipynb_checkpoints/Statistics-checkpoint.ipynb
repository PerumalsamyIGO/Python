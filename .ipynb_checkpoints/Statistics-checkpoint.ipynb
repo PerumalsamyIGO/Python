{
 "cells": [
  {
   "cell_type": "code",
   "execution_count": 7,
   "metadata": {},
   "outputs": [
    {
     "name": "stdout",
     "output_type": "stream",
     "text": [
      "2\n",
      "Enter the type:\n",
      "\t0 - Population\n",
      "\t1 - Sample\t - 0\n",
      "Enter the dataset name (Key): A\n",
      "Enter the values separated by SPACE: 8408 1374 1872 8879 2459 11413 608 14138 6452 1850 2818 1356 10498 7478 4019 4341 739 2127 3653 5794 8305\n",
      "Dataset:  [608, 739, 1356, 1374, 1850, 1872, 2127, 2459, 2818, 3653, 4019, 4341, 5794, 6452, 7478, 8305, 8408, 8879, 10498, 11413, 14138]\n",
      "\tSum:  108581\n",
      "\tMean:  5170.523809523809\n",
      "\tMedian:  4019\n",
      "\tRange:  13530\n",
      "\tVariance:  14617742.4399093\n",
      "\tStandard Deviation:  3823.315634355775\n",
      "\tQuartile Q1:  1872\n",
      "\tQuartile Q3:  8305\n",
      "\tIQR:  6433\n",
      "\t1.5 IQR:  9649.5\n",
      "\tCoefficient of Variation 73.944455\n",
      "\tLower Limit:  -7777.5\n",
      "\tUpper Limit:  17954.5\n",
      "Enter the dataset name (Key): B\n",
      "Enter the values separated by SPACE: 2 1\n",
      "Dataset:  [1, 2]\n",
      "\tSum:  3\n",
      "\tMean:  1.5\n",
      "\tMedian: 1.5\n",
      "\tRange:  1\n",
      "\tVariance:  0.25\n",
      "\tStandard Deviation:  0.5\n",
      "\tQuartile Q1:  1\n",
      "\tQuartile Q3:  2\n",
      "\tIQR:  1\n",
      "\t1.5 IQR:  1.5\n",
      "\tCoefficient of Variation 33.333333\n",
      "\tLower Limit:  -0.5\n",
      "\tUpper Limit:  3.5\n",
      "Enter the two dataset names to find covariance & correlation A B\n",
      "Covariance of A and B: 1758.5\n",
      "Correlation coefficient between A and B: 0.9198822007779672\n"
     ]
    }
   ],
   "source": [
    "from functools import reduce\n",
    "import math\n",
    "a=dict()\n",
    "ar_count = int(input())\n",
    "stat={1:'sample',0:'population'}\n",
    "stat_in=int(input(\"Enter the type:\\n\\t0 - Population\\n\\t1 - Sample\\t - \"))\n",
    "dats=[]\n",
    "for i in range(ar_count):\n",
    "    dat=input(\"Enter the dataset name (Key): \".format(i))\n",
    "    dats.insert(i,dat)\n",
    "    a[\"Datasetname\"]=dats\n",
    "    b=list(map(int, input(\"Enter the values separated by SPACE: \").rstrip().split()))\n",
    "    a[dat+'unsort']=b\n",
    "    #Sort the data\n",
    "    a[dat]=sorted(b)\n",
    "    print(\"Dataset: \",a[dat])\n",
    "    #Sum of the values in the data set\n",
    "    a[dat+'sum'] = reduce(lambda x,y:x+y,a[dat])\n",
    "    print(\"\\tSum: \",a[dat+'sum'])\n",
    "    #Mean of the values in the data set\n",
    "    a[dat+'mean'] = reduce(lambda x,y:x+y,a[dat])/len(a[dat])\n",
    "    print(\"\\tMean: \",a[dat+'mean'])\n",
    "    #Median of the values in the data set\n",
    "    mod=len(a[dat])%2\n",
    "    if mod==1:\n",
    "        a[dat+'meadian']=a[dat][int(len(a[dat])/2)]\n",
    "        print(\"\\tMedian: \",a[dat+'meadian'])\n",
    "    else:\n",
    "        med=int(len(a[dat])/2)\n",
    "        a[dat+'meadian']=(a[dat][med-1]+a[dat][med])/2\n",
    "        print(\"\\tMedian:\", a[dat+'meadian'])\n",
    "    #Range of dataset\n",
    "    a[dat+'range']=a[dat][len(a[dat])-1]-a[dat][0]\n",
    "    print(\"\\tRange: \",a[dat+'range'])\n",
    "    #Variance of the dataset\n",
    "    var=0\n",
    "    for i in a[dat]:\n",
    "        var=var+pow(i-a[dat+'mean'],2)\n",
    "    a[dat+'var']=var/(len(a[dat])-stat_in)\n",
    "    print(\"\\tVariance: \",a[dat+'var'])\n",
    "    #Standard Deviation\n",
    "    a[dat+'SD']=math.sqrt(a[dat+'var'])\n",
    "    print(\"\\tStandard Deviation: \",a[dat+'SD'])\n",
    "    #Quartiles\n",
    "    a[dat+'Q1']=a[dat][int(0.25*len(a[dat]))]\n",
    "    a[dat+'Q3']=a[dat][int(0.75*len(a[dat]))]\n",
    "    print(\"\\tQuartile Q1: \",a[dat+'Q1'])\n",
    "    print(\"\\tQuartile Q3: \",a[dat+'Q3'])\n",
    "    #Inter QUartiles (IQR)\n",
    "    a[dat+'IQR']=a[dat+'Q3']-a[dat+'Q1']\n",
    "    print(\"\\tIQR: \",a[dat+'IQR'])\n",
    "    #1.5 IQR\n",
    "    a[dat+'1.5IQR']=1.5*a[dat+'IQR']\n",
    "    print(\"\\t1.5 IQR: \",a[dat+'1.5IQR'])\n",
    "    #Coefficient of Variation\n",
    "    print(\"\\tCoefficient of Variation\",round((a[dat+'SD']/a[dat+'mean'])*100,6))\n",
    "    print(\"\\tLower Limit: \",a[dat+'Q1']-a[dat+'1.5IQR'])\n",
    "    print(\"\\tUpper Limit: \",a[dat+'Q3']+a[dat+'1.5IQR'])\n",
    "st = input(\"Enter the two dataset names to find covariance & correlation \").split()\n",
    "s = st[0]\n",
    "t = st[1]\n",
    "covnum=0\n",
    "for j in range(min(len(a[s]),len(a[t]))):\n",
    "    covnum=covnum+((a[s+'unsort'][j]-a[s+'mean'])*(a[t+'unsort'][j]-a[t+'mean']))\n",
    "cov=covnum/(min(len(a[s]),len(a[t]))-stat_in)\n",
    "print(\"Covariance of {0} and {1}: {2}\".format(s,t,cov))\n",
    "cocov=cov/(a[s+'SD']*a[t+'SD'])\n",
    "print(\"Correlation coefficient between {0} and {1}: {2}\".format(s,t,cocov))"
   ]
  },
  {
   "cell_type": "code",
   "execution_count": 16,
   "metadata": {},
   "outputs": [
    {
     "name": "stdout",
     "output_type": "stream",
     "text": [
      "A B\n",
      "Covariance of A and B: 391.4444444444444\n",
      "Correlation coefficient between A and B: 0.9958892122813716\n"
     ]
    }
   ],
   "source": []
  },
  {
   "cell_type": "code",
   "execution_count": null,
   "metadata": {},
   "outputs": [],
   "source": []
  },
  {
   "cell_type": "code",
   "execution_count": null,
   "metadata": {},
   "outputs": [],
   "source": []
  }
 ],
 "metadata": {
  "kernelspec": {
   "display_name": "Python 3",
   "language": "python",
   "name": "python3"
  },
  "language_info": {
   "codemirror_mode": {
    "name": "ipython",
    "version": 3
   },
   "file_extension": ".py",
   "mimetype": "text/x-python",
   "name": "python",
   "nbconvert_exporter": "python",
   "pygments_lexer": "ipython3",
   "version": "3.6.5"
  }
 },
 "nbformat": 4,
 "nbformat_minor": 2
}
