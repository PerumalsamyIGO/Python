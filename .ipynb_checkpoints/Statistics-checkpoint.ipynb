{
 "cells": [
  {
   "cell_type": "code",
   "execution_count": 2,
   "metadata": {},
   "outputs": [
    {
     "name": "stdout",
     "output_type": "stream",
     "text": [
      "2\n",
      "Enter the type:\n",
      "\t0 - Population\n",
      "\t1 - Sample\t - 1\n",
      "Enter the dataset name (Key): PlayerB\n",
      "Enter the values separated by SPACE: 7 9 9 10 10 10 10 11 11 13\n",
      "Dataset:  [7, 9, 9, 10, 10, 10, 10, 11, 11, 13]\n",
      "\tSum:  100\n",
      "\tMean:  10.0\n",
      "\tMedian: 10.0\n",
      "\tRange:  6\n",
      "\tVariance:  2.4444444444444446\n",
      "\tStandard Deviation:  1.5634719199411433\n",
      "\tQuartile Q1:  9\n",
      "\tQuartile Q3:  11\n",
      "\tIQR:  2\n",
      "\t1.5 IQR:  3.0\n",
      "Enter the dataset name (Key): PlayerA\n",
      "Enter the values separated by SPACE: 7 8 9 9 10 10 11 11 12 13\n",
      "Dataset:  [7, 8, 9, 9, 10, 10, 11, 11, 12, 13]\n",
      "\tSum:  100\n",
      "\tMean:  10.0\n",
      "\tMedian: 10.0\n",
      "\tRange:  6\n",
      "\tVariance:  3.3333333333333335\n",
      "\tStandard Deviation:  1.8257418583505538\n",
      "\tQuartile Q1:  9\n",
      "\tQuartile Q3:  11\n",
      "\tIQR:  2\n",
      "\t1.5 IQR:  3.0\n",
      "{'PlayerB': [7, 9, 9, 10, 10, 10, 10, 11, 11, 13], 'PlayerBsum': 100, 'PlayerBmean': 10.0, 'PlayerBmeadian': 10.0, 'PlayerBrange': 6, 'PlayerBvar': 2.4444444444444446, 'PlayerBSD': 1.5634719199411433, 'PlayerBQ1': 9, 'PlayerBQ3': 11, 'PlayerA': [7, 8, 9, 9, 10, 10, 11, 11, 12, 13], 'PlayerAsum': 100, 'PlayerAmean': 10.0, 'PlayerAmeadian': 10.0, 'PlayerArange': 6, 'PlayerAvar': 3.3333333333333335, 'PlayerASD': 1.8257418583505538, 'PlayerAQ1': 9, 'PlayerAQ3': 11}\n"
     ]
    }
   ],
   "source": [
    "from functools import reduce\n",
    "import math\n",
    "a=dict()\n",
    "ar_count = int(input())\n",
    "stat={1:'sample',0:'population'}\n",
    "stat_in=int(input(\"Enter the type:\\n\\t0 - Population\\n\\t1 - Sample\\t - \"))\n",
    "for i in range(ar_count):\n",
    "    dat=input(\"Enter the dataset name (Key): \".format(i))\n",
    "    a[dat]=list(map(int, input(\"Enter the values separated by SPACE: \").rstrip().split()))\n",
    "    a[dat].sort()\n",
    "    print(\"Dataset: \",a[dat])\n",
    "    a[dat+'sum'] = reduce(lambda x,y:x+y,a[dat])\n",
    "    print(\"\\tSum: \",a[dat+'sum'])\n",
    "    a[dat+'mean'] = reduce(lambda x,y:x+y,a[dat])/len(a[dat])\n",
    "    print(\"\\tMean: \",a[dat+'mean'])\n",
    "    mod=len(a[dat])%2\n",
    "    if mod==1:\n",
    "        a[dat+'meadian']=a[dat][int(len(a[dat])/2)]\n",
    "        print(\"\\tMedian: \",a[dat+'meadian'])\n",
    "    else:\n",
    "        med=int(len(a[dat])/2)\n",
    "        a[dat+'meadian']=(a[dat][med-1]+a[dat][med])/2\n",
    "        print(\"\\tMedian:\", a[dat+'meadian'])\n",
    "    a[dat+'range']=a[dat][len(a[dat])-1]-a[dat][0]\n",
    "    print(\"\\tRange: \",a[dat+'range'])\n",
    "    var=0\n",
    "    for i in a[dat]:\n",
    "        #print(i-a[dat+'mean'])\n",
    "        var=var+pow(i-a[dat+'mean'],2)\n",
    "        #print(i,var)\n",
    "    a[dat+'var']=var/(len(a[dat])-stat_in)\n",
    "    print(\"\\tVariance: \",a[dat+'var'])\n",
    "    a[dat+'SD']=math.sqrt(a[dat+'var'])\n",
    "    print(\"\\tStandard Deviation: \",a[dat+'SD'])\n",
    "    a[dat+'Q1']=a[dat][int(0.25*len(a[dat]))]\n",
    "    a[dat+'Q3']=a[dat][int(0.75*len(a[dat]))]\n",
    "    print(\"\\tQuartile Q1: \",a[dat+'Q1'])\n",
    "    print(\"\\tQuartile Q3: \",a[dat+'Q3'])\n",
    "    print(\"\\tIQR: \",(a[dat+'Q3']-a[dat+'Q1']))\n",
    "    print(\"\\t1.5 IQR: \",1.5*(a[dat+'Q3']-a[dat+'Q1']))\n",
    "#print(a)"
   ]
  },
  {
   "cell_type": "code",
   "execution_count": 66,
   "metadata": {},
   "outputs": [
    {
     "name": "stdout",
     "output_type": "stream",
     "text": [
      "1.25\n"
     ]
    }
   ],
   "source": [
    "print(.25*5)"
   ]
  },
  {
   "cell_type": "code",
   "execution_count": null,
   "metadata": {},
   "outputs": [],
   "source": []
  },
  {
   "cell_type": "code",
   "execution_count": null,
   "metadata": {},
   "outputs": [],
   "source": []
  }
 ],
 "metadata": {
  "kernelspec": {
   "display_name": "Python 3",
   "language": "python",
   "name": "python3"
  },
  "language_info": {
   "codemirror_mode": {
    "name": "ipython",
    "version": 3
   },
   "file_extension": ".py",
   "mimetype": "text/x-python",
   "name": "python",
   "nbconvert_exporter": "python",
   "pygments_lexer": "ipython3",
   "version": "3.6.5"
  }
 },
 "nbformat": 4,
 "nbformat_minor": 2
}
