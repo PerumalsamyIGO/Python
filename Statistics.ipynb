{
 "cells": [
  {
   "cell_type": "code",
   "execution_count": 2,
   "metadata": {},
   "outputs": [
    {
     "name": "stdout",
     "output_type": "stream",
     "text": [
      "1\n",
      "Enter the type:\n",
      "\t0 - Population\n",
      "\t1 - Sample\t - 0\n",
      "Enter the dataset name (Key): Pop\n",
      "Enter the values separated by SPACE: 69 38 -13 64 -55 -91 -33 -29 69 -99 -80 42 -4 98 -32 15 -15 -37 -43 -30 15 0 -51 -25 -94 -57 -16 54 -27 65 -18 -43 11 -63 87 -9 27 79 13 82 1 64 -25 77 -53 -10 24 -37 38 44 -45 13 -81 57 -43 -93 -63 61 -1 -12 -23 -4 54 41 -88 -41 -88 -69 89 43 48 -67 -4 3 27 -65 -32 -28 77 41 79 34 -31 88 35 13 -70 59 -52 85 97 59 71 -52 -23 18 -63 97 -48 28 67 -91 32 91 -69 73 51 78 -78 93 -31 -32 -61 11 21 -46 -72 12 -90 76 -95 100 29 92 -21 93 -47 60 -12 -70 89 74 90 96 63 82 -91 -99 -39 -79 -74 32 39 -93 1 73 -37 -68 -94 -34 -50 -5 45 -50 10 -60 59 -88 66 27 -48 -76 -75 -52 -45 -60 30 -76 -49 41 -60 -83 -54 -78 40 -54 -6 87 41 -4 53 58 -34 -36 -87 83 -22 2 1 87 -44 14 -23 -17 -83 23 71 -34 11 -80 \n",
      "Dataset:  [-99, -99, -95, -94, -94, -93, -93, -91, -91, -91, -90, -88, -88, -88, -87, -83, -83, -81, -80, -80, -79, -78, -78, -76, -76, -75, -74, -72, -70, -70, -69, -69, -68, -67, -65, -63, -63, -63, -61, -60, -60, -60, -57, -55, -54, -54, -53, -52, -52, -52, -51, -50, -50, -49, -48, -48, -47, -46, -45, -45, -44, -43, -43, -43, -41, -39, -37, -37, -37, -36, -34, -34, -34, -33, -32, -32, -32, -31, -31, -30, -29, -28, -27, -25, -25, -23, -23, -23, -22, -21, -18, -17, -16, -15, -13, -12, -12, -10, -9, -6, -5, -4, -4, -4, -4, -1, 0, 1, 1, 1, 2, 3, 10, 11, 11, 11, 12, 13, 13, 13, 14, 15, 15, 18, 21, 23, 24, 27, 27, 27, 28, 29, 30, 32, 32, 34, 35, 38, 38, 39, 40, 41, 41, 41, 41, 42, 43, 44, 45, 48, 51, 53, 54, 54, 57, 58, 59, 59, 59, 60, 61, 63, 64, 64, 65, 66, 67, 69, 69, 71, 71, 73, 73, 74, 76, 77, 77, 78, 79, 79, 82, 82, 83, 85, 87, 87, 87, 88, 89, 89, 90, 91, 92, 93, 93, 96, 97, 97, 98, 100]\n",
      "\tSum:  -471\n",
      "\tMean:  -2.355\n",
      "\tMedian: -5.5\n",
      "\tRange:  199\n",
      "\tVariance:  3385.2589750000006\n",
      "\tStandard Deviation:  58.182978395747334\n",
      "\tQuartile Q1:  -51\n",
      "\tQuartile Q3:  51\n",
      "\tIQR:  102\n",
      "\t1.5 IQR:  153.0\n",
      "{'Pop': [-99, -99, -95, -94, -94, -93, -93, -91, -91, -91, -90, -88, -88, -88, -87, -83, -83, -81, -80, -80, -79, -78, -78, -76, -76, -75, -74, -72, -70, -70, -69, -69, -68, -67, -65, -63, -63, -63, -61, -60, -60, -60, -57, -55, -54, -54, -53, -52, -52, -52, -51, -50, -50, -49, -48, -48, -47, -46, -45, -45, -44, -43, -43, -43, -41, -39, -37, -37, -37, -36, -34, -34, -34, -33, -32, -32, -32, -31, -31, -30, -29, -28, -27, -25, -25, -23, -23, -23, -22, -21, -18, -17, -16, -15, -13, -12, -12, -10, -9, -6, -5, -4, -4, -4, -4, -1, 0, 1, 1, 1, 2, 3, 10, 11, 11, 11, 12, 13, 13, 13, 14, 15, 15, 18, 21, 23, 24, 27, 27, 27, 28, 29, 30, 32, 32, 34, 35, 38, 38, 39, 40, 41, 41, 41, 41, 42, 43, 44, 45, 48, 51, 53, 54, 54, 57, 58, 59, 59, 59, 60, 61, 63, 64, 64, 65, 66, 67, 69, 69, 71, 71, 73, 73, 74, 76, 77, 77, 78, 79, 79, 82, 82, 83, 85, 87, 87, 87, 88, 89, 89, 90, 91, 92, 93, 93, 96, 97, 97, 98, 100], 'Popsum': -471, 'Popmean': -2.355, 'Popmeadian': -5.5, 'Poprange': 199, 'Popvar': 3385.2589750000006, 'PopSD': 58.182978395747334, 'PopQ1': -51, 'PopQ3': 51}\n"
     ]
    }
   ],
   "source": [
    "from functools import reduce\n",
    "import math\n",
    "a=dict()\n",
    "ar_count = int(input())\n",
    "stat={1:'sample',0:'population'}\n",
    "stat_in=int(input(\"Enter the type:\\n\\t0 - Population\\n\\t1 - Sample\\t - \"))\n",
    "for i in range(ar_count):\n",
    "    dat=input(\"Enter the dataset name (Key): \".format(i))\n",
    "    a[dat]=list(map(int, input(\"Enter the values separated by SPACE: \").rstrip().split()))\n",
    "    a[dat].sort()\n",
    "    print(\"Dataset: \",a[dat])\n",
    "    a[dat+'sum'] = reduce(lambda x,y:x+y,a[dat])\n",
    "    print(\"\\tSum: \",a[dat+'sum'])\n",
    "    a[dat+'mean'] = reduce(lambda x,y:x+y,a[dat])/len(a[dat])\n",
    "    print(\"\\tMean: \",a[dat+'mean'])\n",
    "    mod=len(a[dat])%2\n",
    "    if mod==1:\n",
    "        a[dat+'meadian']=a[dat][int(len(a[dat])/2)]\n",
    "        print(\"\\tMedian: \",a[dat+'meadian'])\n",
    "    else:\n",
    "        med=int(len(a[dat])/2)\n",
    "        a[dat+'meadian']=(a[dat][med-1]+a[dat][med])/2\n",
    "        print(\"\\tMedian:\", a[dat+'meadian'])\n",
    "    a[dat+'range']=a[dat][len(a[dat])-1]-a[dat][0]\n",
    "    print(\"\\tRange: \",a[dat+'range'])\n",
    "    var=0\n",
    "    for i in a[dat]:\n",
    "        #print(i-a[dat+'mean'])\n",
    "        var=var+pow(i-a[dat+'mean'],2)\n",
    "        #print(i,var)\n",
    "    a[dat+'var']=var/(len(a[dat])-stat_in)\n",
    "    print(\"\\tVariance: \",a[dat+'var'])\n",
    "    a[dat+'SD']=math.sqrt(a[dat+'var'])\n",
    "    print(\"\\tStandard Deviation: \",a[dat+'SD'])\n",
    "    a[dat+'Q1']=a[dat][int(0.25*len(a[dat]))]\n",
    "    a[dat+'Q3']=a[dat][int(0.75*len(a[dat]))]\n",
    "    print(\"\\tQuartile Q1: \",a[dat+'Q1'])\n",
    "    print(\"\\tQuartile Q3: \",a[dat+'Q3'])\n",
    "    print(\"\\tIQR: \",(a[dat+'Q3']-a[dat+'Q1']))\n",
    "    print(\"\\t1.5 IQR: \",1.5*(a[dat+'Q3']-a[dat+'Q1']))\n",
    "print(a)"
   ]
  },
  {
   "cell_type": "code",
   "execution_count": 66,
   "metadata": {},
   "outputs": [
    {
     "name": "stdout",
     "output_type": "stream",
     "text": [
      "1.25\n"
     ]
    }
   ],
   "source": [
    "print(.25*5)"
   ]
  },
  {
   "cell_type": "code",
   "execution_count": null,
   "metadata": {},
   "outputs": [],
   "source": []
  },
  {
   "cell_type": "code",
   "execution_count": null,
   "metadata": {},
   "outputs": [],
   "source": []
  }
 ],
 "metadata": {
  "kernelspec": {
   "display_name": "Python 3",
   "language": "python",
   "name": "python3"
  },
  "language_info": {
   "codemirror_mode": {
    "name": "ipython",
    "version": 3
   },
   "file_extension": ".py",
   "mimetype": "text/x-python",
   "name": "python",
   "nbconvert_exporter": "python",
   "pygments_lexer": "ipython3",
   "version": "3.6.5"
  }
 },
 "nbformat": 4,
 "nbformat_minor": 2
}
