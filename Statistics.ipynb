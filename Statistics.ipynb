{
 "cells": [
  {
   "cell_type": "code",
   "execution_count": 75,
   "metadata": {},
   "outputs": [
    {
     "name": "stdout",
     "output_type": "stream",
     "text": [
      "1\n",
      "Enter the type:\n",
      "\t0 - Population\n",
      "\t1 - Sample\t - 0\n",
      "Enter the dataset name (Key): A\n",
      "Enter the values separated by SPACE: 2 45 7 3 2 7 -5\n",
      "Dataset:  [-5, 2, 2, 3, 7, 7, 45]\n",
      "\tSum:  61\n",
      "\tMean:  8.714285714285714\n",
      "\tMedian:  3\n",
      "\tRange:  50\n",
      "\tVariance:  233.34693877551015\n",
      "\tStandard Deviation:  15.275697652660915\n",
      "\tQuartile Q1:  2\n",
      "\tQuartile Q3:  7\n",
      "\tIQR:  5\n",
      "\t1.5 IQR:  7.5\n",
      "{'A': [-5, 2, 2, 3, 7, 7, 45], 'Asum': 61, 'Amean': 8.714285714285714, 'Ameadian': 3, 'Arange': 50, 'Avar': 233.34693877551015, 'ASD': 15.275697652660915, 'AQ1': 2, 'AQ3': 7}\n"
     ]
    }
   ],
   "source": [
    "from functools import reduce\n",
    "a=dict()\n",
    "ar_count = int(input())\n",
    "stat={1:'sample',0:'population'}\n",
    "stat_in=int(input(\"Enter the type:\\n\\t0 - Population\\n\\t1 - Sample\\t - \"))\n",
    "for i in range(ar_count):\n",
    "    dat=input(\"Enter the dataset name (Key): \".format(i))\n",
    "    a[dat]=list(map(int, input(\"Enter the values separated by SPACE: \").rstrip().split()))\n",
    "    a[dat].sort()\n",
    "    print(\"Dataset: \",a[dat])\n",
    "    a[dat+'sum'] = reduce(lambda x,y:x+y,a[dat])\n",
    "    print(\"\\tSum: \",a[dat+'sum'])\n",
    "    a[dat+'mean'] = reduce(lambda x,y:x+y,a[dat])/len(a[dat])\n",
    "    print(\"\\tMean: \",a[dat+'mean'])\n",
    "    mod=len(a[dat])%2\n",
    "    if mod==1:\n",
    "        a[dat+'meadian']=a[dat][int(len(a[dat])/2)]\n",
    "        print(\"\\tMedian: \",a[dat+'meadian'])\n",
    "    else:\n",
    "        med=int(len(a[dat])/2)\n",
    "        a[dat+'meadian']=(a[dat][med-1]+a[dat][med])/2\n",
    "        print(\"\\tMedian:\", a[dat+'meadian'])\n",
    "    a[dat+'range']=a[dat][len(a[dat])-1]-a[dat][0]\n",
    "    print(\"\\tRange: \",a[dat+'range'])\n",
    "    var=0\n",
    "    for i in a[dat]:\n",
    "        #print(i-a[dat+'mean'])\n",
    "        var=var+pow(i-a[dat+'mean'],2)\n",
    "        #print(i,var)\n",
    "    a[dat+'var']=var/(len(a[dat])-stat_in)\n",
    "    print(\"\\tVariance: \",a[dat+'var'])\n",
    "    a[dat+'SD']=math.sqrt(a[dat+'var'])\n",
    "    print(\"\\tStandard Deviation: \",a[dat+'SD'])\n",
    "    a[dat+'Q1']=a[dat][int(0.25*len(a[dat]))]\n",
    "    a[dat+'Q3']=a[dat][int(0.75*len(a[dat]))]\n",
    "    print(\"\\tQuartile Q1: \",a[dat+'Q1'])\n",
    "    print(\"\\tQuartile Q3: \",a[dat+'Q3'])\n",
    "    print(\"\\tIQR: \",(a[dat+'Q3']-a[dat+'Q1']))\n",
    "    print(\"\\t1.5 IQR: \",1.5*(a[dat+'Q3']-a[dat+'Q1']))\n",
    "print(a)"
   ]
  },
  {
   "cell_type": "code",
   "execution_count": 66,
   "metadata": {},
   "outputs": [
    {
     "name": "stdout",
     "output_type": "stream",
     "text": [
      "1.25\n"
     ]
    }
   ],
   "source": [
    "print(.25*5)"
   ]
  },
  {
   "cell_type": "code",
   "execution_count": null,
   "metadata": {},
   "outputs": [],
   "source": []
  },
  {
   "cell_type": "code",
   "execution_count": null,
   "metadata": {},
   "outputs": [],
   "source": []
  }
 ],
 "metadata": {
  "kernelspec": {
   "display_name": "Python 3",
   "language": "python",
   "name": "python3"
  },
  "language_info": {
   "codemirror_mode": {
    "name": "ipython",
    "version": 3
   },
   "file_extension": ".py",
   "mimetype": "text/x-python",
   "name": "python",
   "nbconvert_exporter": "python",
   "pygments_lexer": "ipython3",
   "version": "3.6.5"
  }
 },
 "nbformat": 4,
 "nbformat_minor": 2
}
